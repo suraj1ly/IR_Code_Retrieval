{
 "cells": [
  {
   "cell_type": "markdown",
   "metadata": {
    "colab_type": "text",
    "id": "N_0r0oPZHmjQ"
   },
   "source": [
    "# Loading Dataset"
   ]
  },
  {
   "cell_type": "code",
   "execution_count": null,
   "metadata": {
    "colab": {
     "base_uri": "https://localhost:8080/",
     "height": 34
    },
    "colab_type": "code",
    "id": "7y3VJx_rNgeu",
    "outputId": "d084d887-1441-4f1c-9013-239ae66bcf9d"
   },
   "outputs": [],
   "source": [
    "!ls"
   ]
  },
  {
   "cell_type": "code",
   "execution_count": null,
   "metadata": {
    "colab": {
     "base_uri": "https://localhost:8080/",
     "height": 190
    },
    "colab_type": "code",
    "id": "7XnmxEW59kZI",
    "outputId": "8cde1942-a37c-4fd9-b1b5-7a1de2611843"
   },
   "outputs": [],
   "source": [
    "# from google.colab import drive\n",
    "# drive.mount('/content/drive')\n",
    "\n",
    "# !rm -r sample_data\n",
    "# !cp -r drive/'My Drive'/'IR Project'/* .\n",
    "# !unzip pythonquestions.zip"
   ]
  },
  {
   "cell_type": "code",
   "execution_count": null,
   "metadata": {
    "colab": {
     "base_uri": "https://localhost:8080/",
     "height": 68
    },
    "colab_type": "code",
    "id": "bga7xmsk9zDg",
    "outputId": "1816ae02-1863-4a0f-a0ea-f594eb312bef"
   },
   "outputs": [],
   "source": [
    "# !ls"
   ]
  },
  {
   "cell_type": "code",
   "execution_count": null,
   "metadata": {
    "colab": {},
    "colab_type": "code",
    "id": "55tmCJK8wFMB"
   },
   "outputs": [],
   "source": []
  },
  {
   "cell_type": "markdown",
   "metadata": {
    "colab_type": "text",
    "id": "CVQnAWpOHrzB"
   },
   "source": [
    "# Imports"
   ]
  },
  {
   "cell_type": "code",
   "execution_count": 3,
   "metadata": {
    "colab": {},
    "colab_type": "code",
    "id": "E9hMlIIA-RlF"
   },
   "outputs": [],
   "source": [
    "import chardet\n",
    "import pandas as pd\n",
    "import numpy as np\n",
    "import nltk\n",
    "import string\n",
    "import copy\n",
    "import keyword\n",
    "import re\n",
    "import pickle\n",
    "import os\n",
    "import heapq\n",
    "import codecs\n",
    "import math\n",
    "from nltk.corpus import stopwords\n",
    "from bs4 import BeautifulSoup as bs\n",
    "from scipy.spatial.distance import cosine\n",
    "from nltk.tokenize import RegexpTokenizer\n",
    "from sklearn.metrics.pairwise import cosine_similarity\n",
    "from sklearn.feature_extraction.text import CountVectorizer\n",
    "from sklearn.feature_extraction.text import TfidfVectorizer"
   ]
  },
  {
   "cell_type": "code",
   "execution_count": null,
   "metadata": {
    "colab": {
     "base_uri": "https://localhost:8080/",
     "height": 71
    },
    "colab_type": "code",
    "id": "wNl_905r-RqQ",
    "outputId": "e3edd07e-aa0e-49a9-fec7-08210275d7f1"
   },
   "outputs": [],
   "source": [
    "# !python -m nltk.downloader all > file.log"
   ]
  },
  {
   "cell_type": "code",
   "execution_count": null,
   "metadata": {
    "colab": {},
    "colab_type": "code",
    "id": "AyarlE1yHvcD"
   },
   "outputs": [],
   "source": []
  },
  {
   "cell_type": "markdown",
   "metadata": {
    "colab_type": "text",
    "id": "0rrnzI81Hv3v"
   },
   "source": [
    "# Initialising necessary variables"
   ]
  },
  {
   "cell_type": "code",
   "execution_count": 4,
   "metadata": {
    "colab": {},
    "colab_type": "code",
    "id": "1jj5ELqhE9hD"
   },
   "outputs": [],
   "source": [
    "stop_words = stopwords.words('english')\n",
    "needed_words = ['what', 'which', 'if', 'while', 'for', 'between', 'into', 'from', 'up', 'down', 'in', 'out', 'on', 'off', 'over','then','not','how','do']\n",
    "removing_words = list(set(stop_words).difference(set(needed_words)))"
   ]
  },
  {
   "cell_type": "code",
   "execution_count": 5,
   "metadata": {
    "colab": {},
    "colab_type": "code",
    "id": "oqFg-kthBQUT"
   },
   "outputs": [],
   "source": [
    "lemmatizer = nltk.stem.WordNetLemmatizer()\n",
    "stemmer = nltk.stem.PorterStemmer()\n",
    "w_tokenizer = nltk.tokenize.WhitespaceTokenizer()"
   ]
  },
  {
   "cell_type": "code",
   "execution_count": null,
   "metadata": {
    "colab": {},
    "colab_type": "code",
    "id": "Y9rYKcR1JtLj"
   },
   "outputs": [],
   "source": []
  },
  {
   "cell_type": "markdown",
   "metadata": {
    "colab_type": "text",
    "id": "UlYN89SLGzqg"
   },
   "source": [
    "# Defining Functions"
   ]
  },
  {
   "cell_type": "code",
   "execution_count": 6,
   "metadata": {
    "colab": {},
    "colab_type": "code",
    "id": "u1K9aQMcJZx0"
   },
   "outputs": [],
   "source": [
    "def preprocess(pd):\n",
    "  pd = pd.str.lower()\n",
    "  pd = pd.apply(lambda x: [lemmatizer.lemmatize(w) for w in w_tokenizer.tokenize(x)])\n",
    "  pd = pd.apply(lambda x: [item for item in x if item not in removing_words])\n",
    "  pd = pd.apply(lambda x: [stemmer.stem(y) for y in x])\n",
    "  pd = pd.str.join(' ')\n",
    "  pd = pd.str.replace('[{}]'.format('$<>?@`\\'\"'), ' ')\n",
    "  return pd"
   ]
  },
  {
   "cell_type": "code",
   "execution_count": 7,
   "metadata": {
    "colab": {},
    "colab_type": "code",
    "id": "S58RI9RMGzvT"
   },
   "outputs": [],
   "source": [
    "def extract_code(m):\n",
    "  b = bs(m)\n",
    "  t = b.find_all('code')\n",
    "  for tag in t:\n",
    "    tag.replace_with('')\n",
    "  k = []\n",
    "  for i in t:\n",
    "    z = str(i).replace(\"<code>\", \"\")\n",
    "    z = str(z).replace(\"</code>\", \"\")\n",
    "    k.append(z)\n",
    "  return k"
   ]
  },
  {
   "cell_type": "code",
   "execution_count": 8,
   "metadata": {
    "colab": {},
    "colab_type": "code",
    "id": "COJKrlpnI-ig"
   },
   "outputs": [],
   "source": [
    "def extract_body(m):\n",
    "  b = bs(m)\n",
    "  t = b.find_all('code')\n",
    "  for tag in t:\n",
    "      tag.replace_with('')\n",
    "  a = list({tag.name for tag in b.find_all()})\n",
    "  for i in a:\n",
    "    b = str(b).replace(\"<\"+str(i)+\">\", \" \")\n",
    "    b = str(b).replace(\"</\"+str(i)+\">\", \" \")\n",
    "  return b"
   ]
  },
  {
   "cell_type": "code",
   "execution_count": null,
   "metadata": {
    "colab": {},
    "colab_type": "code",
    "id": "iFMFU6wKI-el"
   },
   "outputs": [],
   "source": []
  },
  {
   "cell_type": "markdown",
   "metadata": {
    "colab_type": "text",
    "id": "OMjELUmi4o9A"
   },
   "source": [
    "### Tagging Funcitons"
   ]
  },
  {
   "cell_type": "code",
   "execution_count": 9,
   "metadata": {
    "colab": {},
    "colab_type": "code",
    "id": "Ww7AmX7CzFNX"
   },
   "outputs": [],
   "source": [
    "def sort_list(list1, list2): \n",
    "    zipped_pairs = zip(list2, list1) \n",
    "    z = [x for _, x in sorted(zipped_pairs)] \n",
    "    return z "
   ]
  },
  {
   "cell_type": "code",
   "execution_count": 10,
   "metadata": {
    "colab": {},
    "colab_type": "code",
    "id": "is0mlqJe4ej5"
   },
   "outputs": [],
   "source": [
    "def find_tags(tags,number):\n",
    "    tags.sort()\n",
    "    tags.reverse()\n",
    "    sum1=0\n",
    "    for i in range(0,number):\n",
    "        sum1+=tags[i]\n",
    "    avg=sum1/float(number)\n",
    "    i=0\n",
    "    counter=0\n",
    "    while avg<tags[i]:\n",
    "        counter+=1\n",
    "        i+=1\n",
    "    return counter"
   ]
  },
  {
   "cell_type": "code",
   "execution_count": 11,
   "metadata": {
    "colab": {},
    "colab_type": "code",
    "id": "-_xE-3uQ4egz"
   },
   "outputs": [],
   "source": [
    "def magnitude(array_list):\n",
    "    s=0\n",
    "    for i in range(len(array_list)):\n",
    "        s=s+(array_list[i]**2)\n",
    "    return np.power(s,0.5)"
   ]
  },
  {
   "cell_type": "code",
   "execution_count": 12,
   "metadata": {
    "colab": {},
    "colab_type": "code",
    "id": "-0m7kvz64eeW"
   },
   "outputs": [],
   "source": [
    "def cosine_vec(query_vector,vec2):\n",
    "    query_vector=np.array(query_vector)\n",
    "    vec2=np.array(vec2)\n",
    "    q1=magnitude(list(query_vector))\n",
    "    cosine_similarity_val=np.dot(query_vector,vec2)/float(q1*magnitude(list(vec2)))"
   ]
  },
  {
   "cell_type": "code",
   "execution_count": null,
   "metadata": {
    "colab": {},
    "colab_type": "code",
    "id": "P-E3wHdy4eba"
   },
   "outputs": [],
   "source": []
  },
  {
   "cell_type": "markdown",
   "metadata": {
    "colab_type": "text",
    "id": "yijUd-87G4Ob"
   },
   "source": [
    "### Code Matching"
   ]
  },
  {
   "cell_type": "code",
   "execution_count": 13,
   "metadata": {
    "colab": {},
    "colab_type": "code",
    "id": "7N5K3IBw2QeR"
   },
   "outputs": [],
   "source": [
    "def determineWordType(t1, t2):\n",
    "    keylist = keyword.kwlist\n",
    "    keys1 = 0\n",
    "    keys2 = 0\n",
    "    cf1 = 0\n",
    "    cf2 = 0\n",
    "    vars1 = 0\n",
    "    vars2 = 0\n",
    "    i = 0\n",
    "    while i < len(t1):\n",
    "        if t1[i] in keylist:\n",
    "            keys1 += 1\n",
    "        elif re.search(r':$', t1[i]):\n",
    "            cf1 += 1\n",
    "        else:\n",
    "            vars1 += 1\n",
    "        i += 1\n",
    "    i = 0\n",
    "    while i < len(t2):\n",
    "        if t2[i] in keylist:\n",
    "            keys2 += 1\n",
    "        elif re.search(r':$', t2[i]):\n",
    "            cf2 += 1\n",
    "        else:\n",
    "            vars2 += 1\n",
    "        i += 1\n",
    "    return [keys1, cf1, vars1], [keys2, cf2, vars2]"
   ]
  },
  {
   "cell_type": "code",
   "execution_count": 14,
   "metadata": {
    "colab": {},
    "colab_type": "code",
    "id": "FWRO7ZLL2QcW"
   },
   "outputs": [],
   "source": [
    "def matchCode(a, b):\n",
    "    simscore = 0\n",
    "    l1 = a.splitlines()\n",
    "    l2 = b.splitlines()\n",
    "    i = 0\n",
    "    m = len(l1)\n",
    "    n = len(l2)\n",
    "    while i < min(m,n):\n",
    "        t1=l1[i].split(\" \")\n",
    "        t2=l2[i].split(\" \")\n",
    "        vec1, vec2 = determineWordType(t1, t2)\n",
    "        difvec = np.subtract(vec1, vec2)\n",
    "        if sum(abs(difvec)) < min(len(t1), len(t2)):\n",
    "            simscore += 1\n",
    "        i += 1\n",
    "    if min(m,n)==0:\n",
    "      return 0.0\n",
    "    return simscore/min(m,n)"
   ]
  },
  {
   "cell_type": "code",
   "execution_count": 15,
   "metadata": {
    "colab": {},
    "colab_type": "code",
    "id": "cW6wAoUyUX0v"
   },
   "outputs": [],
   "source": [
    "def get_max(a):\n",
    "  if len(a) == 0:\n",
    "    return 0\n",
    "  return max(a)"
   ]
  },
  {
   "cell_type": "code",
   "execution_count": 16,
   "metadata": {
    "colab": {},
    "colab_type": "code",
    "id": "dUPfxZNYGnlx"
   },
   "outputs": [],
   "source": [
    "def cosine(a, b):\n",
    "  m = a.multiply(b)\n",
    "  numerator = m.sum(axis=1)\n",
    "  det_a = np.sqrt(a.sum(axis = 1))\n",
    "  det_b = np.sqrt(b.sum(axis = 1))\n",
    "  return numerator / (det_a * det_b)"
   ]
  },
  {
   "cell_type": "code",
   "execution_count": 17,
   "metadata": {
    "colab": {},
    "colab_type": "code",
    "id": "aR-xVZf0G78X"
   },
   "outputs": [],
   "source": [
    "def code_sim(a, b):\n",
    "    scores = []\n",
    "    for i in a:\n",
    "        scores.append(matchCode(i, b))\n",
    "\n",
    "    for i in range(len(a)):\n",
    "        scores[i] += matchSlidingWindow(i, b)\n",
    "    return scores/2"
   ]
  },
  {
   "cell_type": "code",
   "execution_count": 18,
   "metadata": {
    "colab": {},
    "colab_type": "code",
    "id": "0b51aIe7PqeP"
   },
   "outputs": [],
   "source": [
    "def matchSlidingWindow(a, b):\n",
    "    simscores = []\n",
    "    l1 = a.splitlines()\n",
    "    l2 = b.splitlines()\n",
    "    m = len(l1)\n",
    "    n = len(l2)\n",
    "    wsize = min(m, n)\n",
    "    i = 0\n",
    "    if m < n:\n",
    "        i += m\n",
    "        k = 0\n",
    "        while i < n:\n",
    "            simscores.append(matchCode(''.join(l1), ''.join(l2[k:i])))\n",
    "            k += 1\n",
    "            i += 1      \n",
    "    else:\n",
    "        i += n\n",
    "        k = 0\n",
    "        while i < m:\n",
    "            simscores.append(matchCode(''.join(l1[k:i]), ''.join(l2)))\n",
    "            k += 1\n",
    "            i += 1\n",
    "            \n",
    "    if len(simscores)==0:\n",
    "      return 0.0\n",
    "    return sum(simscores)/len(simscores)"
   ]
  },
  {
   "cell_type": "code",
   "execution_count": null,
   "metadata": {
    "colab": {},
    "colab_type": "code",
    "id": "qzOlRhNNzJFV"
   },
   "outputs": [],
   "source": []
  },
  {
   "cell_type": "markdown",
   "metadata": {
    "colab_type": "text",
    "id": "FWcp4Hx5AW2D"
   },
   "source": [
    "# Tags"
   ]
  },
  {
   "cell_type": "code",
   "execution_count": 19,
   "metadata": {
    "colab": {
     "base_uri": "https://localhost:8080/",
     "height": 204
    },
    "colab_type": "code",
    "id": "6FCWPaiK0Tjq",
    "outputId": "1757d138-2842-491f-e1b9-048d36ce4697"
   },
   "outputs": [
    {
     "data": {
      "text/html": [
       "<div>\n",
       "<style scoped>\n",
       "    .dataframe tbody tr th:only-of-type {\n",
       "        vertical-align: middle;\n",
       "    }\n",
       "\n",
       "    .dataframe tbody tr th {\n",
       "        vertical-align: top;\n",
       "    }\n",
       "\n",
       "    .dataframe thead th {\n",
       "        text-align: right;\n",
       "    }\n",
       "</style>\n",
       "<table border=\"1\" class=\"dataframe\">\n",
       "  <thead>\n",
       "    <tr style=\"text-align: right;\">\n",
       "      <th></th>\n",
       "      <th>Id</th>\n",
       "      <th>OwnerUserId</th>\n",
       "      <th>CreationDate</th>\n",
       "      <th>Score</th>\n",
       "      <th>Title</th>\n",
       "      <th>Body</th>\n",
       "    </tr>\n",
       "  </thead>\n",
       "  <tbody>\n",
       "    <tr>\n",
       "      <th>0</th>\n",
       "      <td>636977</td>\n",
       "      <td>76967.0</td>\n",
       "      <td>2009-03-12T00:48:24Z</td>\n",
       "      <td>0</td>\n",
       "      <td>Best way to remove duplicate characters (words...</td>\n",
       "      <td>&lt;p&gt;What would be the best way of removing any ...</td>\n",
       "    </tr>\n",
       "    <tr>\n",
       "      <th>1</th>\n",
       "      <td>13184947</td>\n",
       "      <td>1792223.0</td>\n",
       "      <td>2012-11-01T20:26:43Z</td>\n",
       "      <td>0</td>\n",
       "      <td>Python - Receipt-like output</td>\n",
       "      <td>&lt;p&gt;Im doing some homework and im breaking my h...</td>\n",
       "    </tr>\n",
       "    <tr>\n",
       "      <th>2</th>\n",
       "      <td>38190552</td>\n",
       "      <td>6000892.0</td>\n",
       "      <td>2016-07-04T18:34:10Z</td>\n",
       "      <td>0</td>\n",
       "      <td>Recovering Python file that is deleted yet sti...</td>\n",
       "      <td>&lt;p&gt;The other night I was running a Python scri...</td>\n",
       "    </tr>\n",
       "    <tr>\n",
       "      <th>3</th>\n",
       "      <td>26719088</td>\n",
       "      <td>281530.0</td>\n",
       "      <td>2014-11-03T16:59:11Z</td>\n",
       "      <td>3</td>\n",
       "      <td>Django 1.7 blank CharField/TextField convention</td>\n",
       "      <td>&lt;p&gt;Using Django's new migration framework, let...</td>\n",
       "    </tr>\n",
       "    <tr>\n",
       "      <th>4</th>\n",
       "      <td>10302672</td>\n",
       "      <td>786125.0</td>\n",
       "      <td>2012-04-24T17:09:41Z</td>\n",
       "      <td>3</td>\n",
       "      <td>Kivy Play Audio Not Working</td>\n",
       "      <td>&lt;p&gt;I'm attempting to run Kivy's audio example ...</td>\n",
       "    </tr>\n",
       "  </tbody>\n",
       "</table>\n",
       "</div>"
      ],
      "text/plain": [
       "         Id  OwnerUserId          CreationDate  Score  \\\n",
       "0    636977      76967.0  2009-03-12T00:48:24Z      0   \n",
       "1  13184947    1792223.0  2012-11-01T20:26:43Z      0   \n",
       "2  38190552    6000892.0  2016-07-04T18:34:10Z      0   \n",
       "3  26719088     281530.0  2014-11-03T16:59:11Z      3   \n",
       "4  10302672     786125.0  2012-04-24T17:09:41Z      3   \n",
       "\n",
       "                                               Title  \\\n",
       "0  Best way to remove duplicate characters (words...   \n",
       "1                       Python - Receipt-like output   \n",
       "2  Recovering Python file that is deleted yet sti...   \n",
       "3    Django 1.7 blank CharField/TextField convention   \n",
       "4                        Kivy Play Audio Not Working   \n",
       "\n",
       "                                                Body  \n",
       "0  <p>What would be the best way of removing any ...  \n",
       "1  <p>Im doing some homework and im breaking my h...  \n",
       "2  <p>The other night I was running a Python scri...  \n",
       "3  <p>Using Django's new migration framework, let...  \n",
       "4  <p>I'm attempting to run Kivy's audio example ...  "
      ]
     },
     "execution_count": 19,
     "metadata": {},
     "output_type": "execute_result"
    }
   ],
   "source": [
    "df = pd.read_csv(\"SampleQs.csv\", encoding = \"ISO-8859-1\", index_col=0)\n",
    "df.head()"
   ]
  },
  {
   "cell_type": "code",
   "execution_count": 20,
   "metadata": {
    "colab": {
     "base_uri": "https://localhost:8080/",
     "height": 119
    },
    "colab_type": "code",
    "id": "mRGQvXZS0UAG",
    "outputId": "628803bf-b608-48d2-fe70-5f47dc0ee071"
   },
   "outputs": [
    {
     "name": "stdout",
     "output_type": "stream",
     "text": [
      "         Id                Tag\n",
      "0  10614000  google-app-engine\n",
      "1  10614000      gae-datastore\n",
      "2  10614000         python-2.7\n",
      "3  10614000          datastore\n",
      "4    636977             python\n"
     ]
    }
   ],
   "source": [
    "df1 = pd.read_csv(\"SampleTs.csv\", encoding = \"ISO-8859-1\", index_col=0)\n",
    "print(df1.head())"
   ]
  },
  {
   "cell_type": "code",
   "execution_count": null,
   "metadata": {},
   "outputs": [],
   "source": []
  },
  {
   "cell_type": "code",
   "execution_count": 21,
   "metadata": {
    "colab": {},
    "colab_type": "code",
    "id": "Di-Yp0Bs0UKi"
   },
   "outputs": [
    {
     "data": {
      "text/html": [
       "<div>\n",
       "<style scoped>\n",
       "    .dataframe tbody tr th:only-of-type {\n",
       "        vertical-align: middle;\n",
       "    }\n",
       "\n",
       "    .dataframe tbody tr th {\n",
       "        vertical-align: top;\n",
       "    }\n",
       "\n",
       "    .dataframe thead th {\n",
       "        text-align: right;\n",
       "    }\n",
       "</style>\n",
       "<table border=\"1\" class=\"dataframe\">\n",
       "  <thead>\n",
       "    <tr style=\"text-align: right;\">\n",
       "      <th></th>\n",
       "      <th>Id</th>\n",
       "      <th>OwnerUserId</th>\n",
       "      <th>CreationDate</th>\n",
       "      <th>Score</th>\n",
       "      <th>Title</th>\n",
       "      <th>Body</th>\n",
       "      <th>Code</th>\n",
       "    </tr>\n",
       "  </thead>\n",
       "  <tbody>\n",
       "    <tr>\n",
       "      <th>0</th>\n",
       "      <td>636977</td>\n",
       "      <td>76967.0</td>\n",
       "      <td>2009-03-12T00:48:24Z</td>\n",
       "      <td>0</td>\n",
       "      <td>best way remov duplic charact (words) in string</td>\n",
       "      <td>what would best way remov duplic charact set c...</td>\n",
       "      <td>[foo = 'h k k h2 h'\\n, foo = 'h k h2' # order ...</td>\n",
       "    </tr>\n",
       "    <tr>\n",
       "      <th>1</th>\n",
       "      <td>13184947</td>\n",
       "      <td>1792223.0</td>\n",
       "      <td>2012-11-01T20:26:43Z</td>\n",
       "      <td>0</td>\n",
       "      <td>python - receipt-lik output</td>\n",
       "      <td>im homework im break head around this.. either...</td>\n",
       "      <td>[price = input(\"Enter Price \")\\ncash = input(\"...</td>\n",
       "    </tr>\n",
       "    <tr>\n",
       "      <th>2</th>\n",
       "      <td>38190552</td>\n",
       "      <td>6000892.0</td>\n",
       "      <td>2016-07-04T18:34:10Z</td>\n",
       "      <td>0</td>\n",
       "      <td>recov python file delet yet still visibl</td>\n",
       "      <td>night wa run python script wa calcul simul whi...</td>\n",
       "      <td>[DMEmodel.py, http://DMEmodel.py, /home/user1,...</td>\n",
       "    </tr>\n",
       "    <tr>\n",
       "      <th>3</th>\n",
       "      <td>26719088</td>\n",
       "      <td>281530.0</td>\n",
       "      <td>2014-11-03T16:59:11Z</td>\n",
       "      <td>3</td>\n",
       "      <td>django 1.7 blank charfield/textfield convent</td>\n",
       "      <td>use django  new migrat framework, let  say fol...</td>\n",
       "      <td>[class TestModel(models.Model):\\n    field_1 =...</td>\n",
       "    </tr>\n",
       "    <tr>\n",
       "      <th>4</th>\n",
       "      <td>10302672</td>\n",
       "      <td>786125.0</td>\n",
       "      <td>2012-04-24T17:09:41Z</td>\n",
       "      <td>3</td>\n",
       "      <td>kivi play audio not work</td>\n",
       "      <td>i m attempt run kivy  audio exampl found  a hr...</td>\n",
       "      <td>[sound = SoundLoader.load(filename='test.wav')...</td>\n",
       "    </tr>\n",
       "  </tbody>\n",
       "</table>\n",
       "</div>"
      ],
      "text/plain": [
       "         Id  OwnerUserId          CreationDate  Score  \\\n",
       "0    636977      76967.0  2009-03-12T00:48:24Z      0   \n",
       "1  13184947    1792223.0  2012-11-01T20:26:43Z      0   \n",
       "2  38190552    6000892.0  2016-07-04T18:34:10Z      0   \n",
       "3  26719088     281530.0  2014-11-03T16:59:11Z      3   \n",
       "4  10302672     786125.0  2012-04-24T17:09:41Z      3   \n",
       "\n",
       "                                              Title  \\\n",
       "0  best way remov duplic charact (words) in string    \n",
       "1                       python - receipt-lik output   \n",
       "2          recov python file delet yet still visibl   \n",
       "3      django 1.7 blank charfield/textfield convent   \n",
       "4                          kivi play audio not work   \n",
       "\n",
       "                                                Body  \\\n",
       "0  what would best way remov duplic charact set c...   \n",
       "1  im homework im break head around this.. either...   \n",
       "2  night wa run python script wa calcul simul whi...   \n",
       "3  use django  new migrat framework, let  say fol...   \n",
       "4  i m attempt run kivy  audio exampl found  a hr...   \n",
       "\n",
       "                                                Code  \n",
       "0  [foo = 'h k k h2 h'\\n, foo = 'h k h2' # order ...  \n",
       "1  [price = input(\"Enter Price \")\\ncash = input(\"...  \n",
       "2  [DMEmodel.py, http://DMEmodel.py, /home/user1,...  \n",
       "3  [class TestModel(models.Model):\\n    field_1 =...  \n",
       "4  [sound = SoundLoader.load(filename='test.wav')...  "
      ]
     },
     "execution_count": 21,
     "metadata": {},
     "output_type": "execute_result"
    }
   ],
   "source": [
    "processed_q = copy.deepcopy(df)\n",
    "processed_q['Title'] = preprocess(processed_q['Title'])\n",
    "processed_q['Code'] = processed_q['Body'].apply(lambda x: extract_code(x))\n",
    "processed_q['Body'] = preprocess(processed_q['Body'].apply(lambda x: extract_body(x)))\n",
    "processed_q.head()"
   ]
  },
  {
   "cell_type": "code",
   "execution_count": null,
   "metadata": {
    "colab": {
     "base_uri": "https://localhost:8080/",
     "height": 1218
    },
    "colab_type": "code",
    "id": "pPvGc2iR0UH5",
    "outputId": "89657186-db66-487d-b9df-19a3a4c4b2e4"
   },
   "outputs": [],
   "source": []
  },
  {
   "cell_type": "code",
   "execution_count": 22,
   "metadata": {
    "colab": {},
    "colab_type": "code",
    "id": "xSjEzSwL0UFh"
   },
   "outputs": [],
   "source": [
    "id3=processed_q['Id']\n",
    "body=processed_q['Body']\n",
    "title=processed_q['Title']\n",
    "code=processed_q['Code']\n",
    "id3=list(id3)\n",
    "body=list(body)\n",
    "title=list(title)\n",
    "code=list(code)"
   ]
  },
  {
   "cell_type": "code",
   "execution_count": 23,
   "metadata": {
    "colab": {},
    "colab_type": "code",
    "id": "GBpmNBbJ0T7I"
   },
   "outputs": [],
   "source": [
    "questions_with_hash={}\n",
    "for i in range(len(id3)):\n",
    "    temp={}\n",
    "    temp['body']=body[i]\n",
    "    temp['title']=title[i]\n",
    "    temp['code']=code[i]\n",
    "    questions_with_hash[id3[i]]=temp"
   ]
  },
  {
   "cell_type": "code",
   "execution_count": 2,
   "metadata": {},
   "outputs": [
    {
     "name": "stdout",
     "output_type": "stream",
     "text": [
      "[2, 3]\n"
     ]
    }
   ],
   "source": [
    "s=[1,2,3]\n",
    "s.pop(0)\n",
    "print(s)"
   ]
  },
  {
   "cell_type": "code",
   "execution_count": 6,
   "metadata": {},
   "outputs": [
    {
     "data": {
      "text/plain": [
       "9"
      ]
     },
     "execution_count": 6,
     "metadata": {},
     "output_type": "execute_result"
    }
   ],
   "source": [
    "l1=0\n",
    "l2=9\n",
    "a=[l1,l2]\n",
    "max(a)"
   ]
  },
  {
   "cell_type": "code",
   "execution_count": 9,
   "metadata": {},
   "outputs": [
    {
     "data": {
      "text/plain": [
       "array([[46, 45],\n",
       "       [38, 42]])"
      ]
     },
     "execution_count": 9,
     "metadata": {},
     "output_type": "execute_result"
    }
   ],
   "source": [
    "np.matmul(np.transpose([[1,2],[5,4]]),np.array([[1,5],[9,8]]))"
   ]
  },
  {
   "cell_type": "code",
   "execution_count": 12,
   "metadata": {},
   "outputs": [],
   "source": [
    "import networkx as nx\n",
    "def steady_sim_neigh(A,B):\n",
    "    G1=nx.from_numpy_matrix(A)\n",
    "    G2=nx.from_numpy_matrix(B)\n",
    "    \n",
    "    w1, v1 = LA.eig(np.matmul(np.transpose(A),np.array(A)))\n",
    "    v1=v1.transpose()\n",
    "    sim1=np.array(np.matmul(np.matrix(A),np.matrix(v1)))\n",
    "    w1, v1 = LA.eig(np.matmul(np.transpose(B),np.array(B)))\n",
    "    v1=v1.transpose()\n",
    "    sim2=np.array(np.matmul(np.matrix(B),np.matrix(v1)))\n",
    "    a1=LA.norm(sim1)\n",
    "    a2=LA.norm(sim2)\n",
    "    a=a1+a2\n",
    "    \n",
    "    w1, v1 = LA.eig(np.matmul(np.array(A),np.transpose(A)))\n",
    "    v1=v1.transpose()\n",
    "    sim1=np.array(np.matmul(np.matrix(A),np.matrix(v1)))\n",
    "    w1, v1 = LA.eig(np.matmul(np.array(B),np.transpose(B)))\n",
    "    v1=v1.transpose()\n",
    "    sim2=np.array(np.matmul(np.matrix(B),np.matrix(v1)))\n",
    "    b1=LA.norm(sim1)\n",
    "    b2=LA.norm(sim2)\n",
    "    b=b1+b2\n",
    "    return (0.5*np.absolute(a1-a2)/float(a)+0.5*np.absolute(b1-b2)/float(b))"
   ]
  },
  {
   "cell_type": "code",
   "execution_count": 16,
   "metadata": {},
   "outputs": [
    {
     "data": {
      "text/plain": [
       "0.0"
      ]
     },
     "execution_count": 16,
     "metadata": {},
     "output_type": "execute_result"
    }
   ],
   "source": [
    "from numpy import linalg as LA\n",
    "steady_sim_neigh(np.array([[1,2],[5,6]]),np.array([[1,2],[5,6]]))"
   ]
  },
  {
   "cell_type": "code",
   "execution_count": 24,
   "metadata": {
    "colab": {},
    "colab_type": "code",
    "id": "n6rkbSle0T1q"
   },
   "outputs": [],
   "source": [
    "id1=df1['Id']\n",
    "id1=list(id1)\n",
    "tag=df1['Tag']\n",
    "tag=list(tag)"
   ]
  },
  {
   "cell_type": "code",
   "execution_count": 25,
   "metadata": {
    "colab": {},
    "colab_type": "code",
    "id": "1c4hriBe0Ttf"
   },
   "outputs": [],
   "source": [
    "quesid_invertedindex={}\n",
    "for i in range(len(id1)):\n",
    "    if tag[i] not in quesid_invertedindex.keys():\n",
    "        temp=[]\n",
    "        temp.append(id1[i])\n",
    "        quesid_invertedindex[tag[i]]=temp\n",
    "    else:\n",
    "        quesid_invertedindex[tag[i]].append(id1[i])"
   ]
  },
  {
   "cell_type": "code",
   "execution_count": 26,
   "metadata": {
    "colab": {},
    "colab_type": "code",
    "id": "u-Vsutef07_v"
   },
   "outputs": [],
   "source": [
    "flag={}\n",
    "for i in quesid_invertedindex.keys():\n",
    "    flag[i]=0"
   ]
  },
  {
   "cell_type": "code",
   "execution_count": 27,
   "metadata": {
    "colab": {},
    "colab_type": "code",
    "id": "yvAymMQY0760"
   },
   "outputs": [
    {
     "name": "stdout",
     "output_type": "stream",
     "text": [
      "Counter :  50000\n",
      "Counter :  100000\n",
      "Counter :  150000\n",
      "Counter :  200000\n",
      "Counter :  250000\n",
      "Counter :  300000\n",
      "Counter :  350000\n",
      "Counter :  500000\n"
     ]
    }
   ],
   "source": [
    "tag_list={}\n",
    "counter=0\n",
    "for i in range(len(tag)):\n",
    "    counter+=1\n",
    "    if tag[i]=='python' or tag[i]=='python-2.7' or tag[i]=='python-3.0':\n",
    "        continue\n",
    "    if counter%50000==0:\n",
    "        print(\"Counter : \",counter)\n",
    "    try:\n",
    "        flag2=tag_list[tag[i]]\n",
    "        temp_t=questions_with_hash[id1[i]]     \n",
    "        tag_list[tag[i]]['body']+=temp_t['body']\n",
    "        tag_list[tag[i]]['title']+=temp_t['title']\n",
    "        tag_list[tag[i]]['code'].append(temp_t['code'])\n",
    "        flag[tag[i]]+=1                \n",
    "    except:\n",
    "        temp_t=questions_with_hash[id1[i]]\n",
    "        temp={}\n",
    "        temp['body']=temp_t['body']\n",
    "        temp['title']=temp_t['title']\n",
    "        temp1=[]\n",
    "        temp1.append(temp_t['code'])\n",
    "        temp['code']=temp1\n",
    "        tag_list[tag[i]]=temp\n",
    "        flag[tag[i]]+=1"
   ]
  },
  {
   "cell_type": "code",
   "execution_count": null,
   "metadata": {},
   "outputs": [],
   "source": []
  },
  {
   "cell_type": "code",
   "execution_count": 28,
   "metadata": {
    "colab": {},
    "colab_type": "code",
    "id": "AgisT6gL1Q0Z"
   },
   "outputs": [],
   "source": [
    "body_corpus = pickle.load(open(\"body.txt\", \"rb\") )\n",
    "title_corpus = pickle.load(open(\"title.txt\", \"rb\" ) )"
   ]
  },
  {
   "cell_type": "code",
   "execution_count": 29,
   "metadata": {
    "colab": {},
    "colab_type": "code",
    "id": "yjfHWGDl2A01"
   },
   "outputs": [],
   "source": [
    "\n",
    "title_corpus_main=[]\n",
    "title_corpus_main.append(title_corpus)\n",
    "\n",
    "body_corpus_main=[]\n",
    "body_corpus_main.append(body_corpus)#For Title using question body\n",
    "\n",
    "vc_title_tag = CountVectorizer() #TfidfVectorizer()\n",
    "vec_title = vc_title_tag.fit_transform(title_corpus_main)"
   ]
  },
  {
   "cell_type": "code",
   "execution_count": 30,
   "metadata": {
    "colab": {},
    "colab_type": "code",
    "id": "EDPDt3552Ayn"
   },
   "outputs": [],
   "source": [
    "vc_body_tag = CountVectorizer() #TfidfVectorizer()\n",
    "vec_body = vc_body_tag.fit_transform(body_corpus_main)"
   ]
  },
  {
   "cell_type": "code",
   "execution_count": null,
   "metadata": {},
   "outputs": [],
   "source": []
  },
  {
   "cell_type": "code",
   "execution_count": 50,
   "metadata": {
    "colab": {},
    "colab_type": "code",
    "id": "gDYY46FB1YTg"
   },
   "outputs": [],
   "source": [
    "def tag_detector(query_body, query_code, weight_title, weight_body, weight_code, rel):\n",
    "\n",
    "  q_title = vc_title_tag.transform(preprocess(pd.DataFrame([query_body])[0]))\n",
    "  q_title1 = vc_body_tag.transform(preprocess(pd.DataFrame([query_body])[0]))\n",
    "  \n",
    "  similarity_body=[]\n",
    "  similarity_title=[]\n",
    "  similarity_code=[]\n",
    "  tag_similar=[]\n",
    "  counter=0\n",
    "  for i in tag_list.keys():\n",
    "      counter+=1\n",
    "      if counter%2000==0:\n",
    "          print(\"Counter : \",counter)\n",
    "      a=[]\n",
    "      a.append(tag_list[i]['body'])\n",
    "      sim1=vc_body_tag.transform(a)\n",
    "      similarity_body.append(cosine_similarity(sim1, q_title1)[0][0])\n",
    "      a=[]\n",
    "      a.append(tag_list[i]['title'])\n",
    "      sim1=vc_title_tag.transform(a)\n",
    "      similarity_title.append(cosine_similarity(sim1, q_title)[0][0])    \n",
    "      tag_similar.append(i)\n",
    "#         scores=[]\n",
    "#         for j in tag_list[i]['code']:\n",
    "#             scores.append(code_sim(j[0],query_code))\n",
    "#         similarity_code.append(max(scores))\n",
    "\n",
    "  main_score=[]\n",
    "  for i in range(len(similarity_body)):\n",
    "      main_score.append(similarity_body[i]*weight_body+similarity_title[i]*weight_title)\n",
    "  a=copy.deepcopy(np.array(main_score))\n",
    "  \n",
    "  rel_opt=find_tags(list(a),rel)\n",
    "\n",
    "  #Another approach to take top relevant tags\n",
    "  list_top=heapq.nlargest(rel_opt, range(len(a)), a.take)\n",
    "  \n",
    "  tags1=[]\n",
    "  for i in range(len(list_top)):\n",
    "      tags1.append(tag_similar[list_top[i]])\n",
    "      print(tag_similar[list_top[i]])\n",
    "\n",
    "  ques_id=[]\n",
    "  for i in range(len(tags1)):\n",
    "      ques_id+=quesid_invertedindex[tags1[i]]\n",
    "  \n",
    "  return ques_id"
   ]
  },
  {
   "cell_type": "code",
   "execution_count": null,
   "metadata": {
    "colab": {},
    "colab_type": "code",
    "id": "ggHXdz512Atg"
   },
   "outputs": [],
   "source": []
  },
  {
   "cell_type": "markdown",
   "metadata": {
    "colab_type": "text",
    "id": "EZ2XfjNFGqFT"
   },
   "source": [
    "# Questions"
   ]
  },
  {
   "cell_type": "code",
   "execution_count": 59,
   "metadata": {
    "colab": {},
    "colab_type": "code",
    "id": "Usxk1bdVCH9s"
   },
   "outputs": [],
   "source": [
    "def filter_questions(tagged_question_ids, question, code, alpha, beta, gamma, top_count):\n",
    "    a = pd.DataFrame(tagged_question_ids).rename({0:'Id'}, axis = 1)\n",
    "\n",
    "    processed_tag = pd.merge(a, processed_q, how='inner', on=\"Id\")\n",
    "    processed_tag = processed_tag.drop_duplicates('Id')\n",
    "    \n",
    "    VC_title = CountVectorizer() #TfidfVectorizer()\n",
    "    X_title = VC_title.fit_transform(processed_tag['Title'])\n",
    "    \n",
    "    VC_body = CountVectorizer() #TfidfVectorizer()\n",
    "    X_body = VC_body.fit_transform(processed_tag['Body'])\n",
    "\n",
    "    Q_title = VC_title.transform(preprocess(pd.DataFrame([question])[0]))\n",
    "    vec_title = cosine_similarity(X_title, Q_title)[0][0]\n",
    "\n",
    "    Q_body = VC_body.transform(preprocess(pd.DataFrame([question])[0]))\n",
    "    vec_body = cosine_similarity(X_body, Q_body)[0][0]\n",
    "\n",
    "#     vec_title = np.nan_to_num(vec_title)\n",
    "#     vec_body = np.nan_to_num(vec_body)\n",
    "    X_title = np.nan_to_num(X_title)\n",
    "    X_body = np.nan_to_num(X_body)\n",
    "\n",
    "    processed_tag['Code_sim'] = processed_tag['Code'].apply(lambda x: [matchCode(code, i) for i in x])\n",
    "    processed_tag['Code_sim_max'] = processed_tag['Code_sim'].apply(lambda x: get_max(x))\n",
    "\n",
    "    processed_tag.head()\n",
    "\n",
    "    vec = alpha * vec_title + gamma * vec_body\n",
    "\n",
    "    top_questions = np.array(vec).flatten().argsort()[-top_count:][::-1]\n",
    "\n",
    "    top_question_id = []\n",
    "    for i in top_questions:\n",
    "        top_question_id.append(processed_q['Id'][i])\n",
    "\n",
    "    top_questions_pd = pd.DataFrame(top_question_id).rename({0:'ParentId'}, axis=1)\n",
    "    return top_questions_pd"
   ]
  },
  {
   "cell_type": "code",
   "execution_count": null,
   "metadata": {
    "colab": {},
    "colab_type": "code",
    "id": "GLyDHWtNHeZa"
   },
   "outputs": [],
   "source": []
  },
  {
   "cell_type": "markdown",
   "metadata": {
    "colab_type": "text",
    "id": "RkS_PJExHAir"
   },
   "source": [
    "# Filtering Answers"
   ]
  },
  {
   "cell_type": "code",
   "execution_count": 39,
   "metadata": {
    "colab": {},
    "colab_type": "code",
    "id": "eqZdNiI8inpT"
   },
   "outputs": [],
   "source": [
    "answers = pd.read_csv('SampleAs.csv', encoding = \"ISO-8859-1\", index_col=0)"
   ]
  },
  {
   "cell_type": "code",
   "execution_count": 70,
   "metadata": {
    "colab": {},
    "colab_type": "code",
    "id": "ubwvn2dl1GQC"
   },
   "outputs": [],
   "source": [
    "def filter_answers(question, top_questions_pd, code, alpha, top_count):\n",
    "    processed_a = pd.merge(top_questions_pd, answers, how='inner')\n",
    "    processed_a['Code'] = processed_a['Body'].apply(lambda x: extract_code(x))\n",
    "    processed_a['Body'] = preprocess(processed_a['Body'].apply(lambda x: extract_body(x)))\n",
    "\n",
    "    VC_body_ans = CountVectorizer() #TfidfVectorizer()\n",
    "    X_body_ans = VC_body_ans.fit_transform(processed_a['Body'])\n",
    "\n",
    "    Q_body_ans = VC_body_ans.transform(preprocess(pd.DataFrame([question])[0]))\n",
    "    vec_body_ans = cosine_similarity(X_body_ans, Q_body_ans)[0][0]\n",
    "\n",
    "#     vec_body_ans = np.nan_to_num(vec_body_ans)\n",
    "\n",
    "    processed_a['Code_sim'] = processed_a['Code'].apply(lambda x: [matchCode(code, i) for i in x])\n",
    "    processed_a['Code_sim_max'] = processed_a['Code_sim'].apply(lambda x: get_max(x))\n",
    "\n",
    "    vec_ans = (alpha * vec_body_ans)\n",
    "\n",
    "    top_answers = np.array(vec_ans).flatten().argsort()[-top_count:][::-1]\n",
    "\n",
    "    top_answer_id = []\n",
    "    for i in top_answers:\n",
    "        top_answer_id.append(processed_a['Id'][i])\n",
    "    top_answers_id = pd.DataFrame(top_answer_id).rename({0:'Id'}, axis=1)\n",
    "    return pd.merge(top_answers_id, processed_a, how='inner')"
   ]
  },
  {
   "cell_type": "code",
   "execution_count": 41,
   "metadata": {
    "colab": {},
    "colab_type": "code",
    "id": "brvpQxGT1ptc"
   },
   "outputs": [
    {
     "data": {
      "text/plain": [
       "'Python code file numpy pandas not working'"
      ]
     },
     "execution_count": 41,
     "metadata": {},
     "output_type": "execute_result"
    }
   ],
   "source": [
    "question"
   ]
  },
  {
   "cell_type": "markdown",
   "metadata": {
    "colab_type": "text",
    "id": "uKlF97bWbpO7"
   },
   "source": [
    "# Search"
   ]
  },
  {
   "cell_type": "code",
   "execution_count": 42,
   "metadata": {
    "colab": {},
    "colab_type": "code",
    "id": "eg80QkMPbglZ"
   },
   "outputs": [],
   "source": [
    "question = \"Python code file numpy pandas not working\"\n",
    "code = \"import csv as csv\\nimport numpy as np\\ncsv_file_object = csv.reader(open('train.csv', 'rb'))\\nheader = csv_file_object.next()\\ndata = []\\nfor row in csv_file_object:\"\n"
   ]
  },
  {
   "cell_type": "code",
   "execution_count": 43,
   "metadata": {
    "colab": {},
    "colab_type": "code",
    "id": "_gqB4dq4gCb1"
   },
   "outputs": [
    {
     "name": "stdout",
     "output_type": "stream",
     "text": [
      "import csv as csv\n",
      "import numpy as np\n",
      "csv_file_object = csv.reader(open('train.csv', 'rb'))\n",
      "header = csv_file_object.next()\n",
      "data = []\n",
      "for row in csv_file_object:\n"
     ]
    }
   ],
   "source": [
    "print(code)"
   ]
  },
  {
   "cell_type": "code",
   "execution_count": null,
   "metadata": {},
   "outputs": [],
   "source": []
  },
  {
   "cell_type": "code",
   "execution_count": 51,
   "metadata": {},
   "outputs": [
    {
     "name": "stdout",
     "output_type": "stream",
     "text": [
      "Counter :  2000\n",
      "Counter :  4000\n",
      "Counter :  6000\n",
      "Counter :  8000\n",
      "Counter :  10000\n",
      "last.fm\n",
      "file-transfer\n",
      "code-generation\n",
      "yad\n",
      "vscode\n",
      "bytecode-manipulation\n",
      "weka\n",
      "yui-compressor\n",
      "file-io\n",
      "sfml\n",
      "file\n",
      "system\n",
      "geektool\n",
      "filesystems\n",
      "io\n",
      "zipfile\n",
      "notin\n",
      "exe\n",
      "flac\n",
      "envoy\n",
      "compatibility\n",
      "type-library\n",
      "ess\n",
      "file-processing\n",
      "python-3.2\n",
      "temporary-files\n",
      "batch-file\n",
      "bytecode\n",
      "2to3\n",
      "decompression\n",
      "xz\n",
      "python-embedding\n",
      "compression\n",
      "zip\n",
      "filepath\n",
      "windows-server-2003\n",
      "file-writing\n",
      "jar\n",
      "c++\n",
      "filereader\n",
      "python-mode\n"
     ]
    }
   ],
   "source": [
    "tagged_question_ids = tag_detector(question, code, 0.6, 0.4, 0, 100)"
   ]
  },
  {
   "cell_type": "code",
   "execution_count": 52,
   "metadata": {},
   "outputs": [
    {
     "data": {
      "text/plain": [
       "4572"
      ]
     },
     "execution_count": 52,
     "metadata": {},
     "output_type": "execute_result"
    }
   ],
   "source": [
    "len(tagged_question_ids)"
   ]
  },
  {
   "cell_type": "code",
   "execution_count": 60,
   "metadata": {
    "colab": {},
    "colab_type": "code",
    "id": "OZayURAnbgo9"
   },
   "outputs": [],
   "source": [
    "top_questions_pd = filter_questions(tagged_question_ids, question, code, 0.6, 0, 0.4, 2)"
   ]
  },
  {
   "cell_type": "code",
   "execution_count": 61,
   "metadata": {},
   "outputs": [
    {
     "data": {
      "text/html": [
       "<div>\n",
       "<style scoped>\n",
       "    .dataframe tbody tr th:only-of-type {\n",
       "        vertical-align: middle;\n",
       "    }\n",
       "\n",
       "    .dataframe tbody tr th {\n",
       "        vertical-align: top;\n",
       "    }\n",
       "\n",
       "    .dataframe thead th {\n",
       "        text-align: right;\n",
       "    }\n",
       "</style>\n",
       "<table border=\"1\" class=\"dataframe\">\n",
       "  <thead>\n",
       "    <tr style=\"text-align: right;\">\n",
       "      <th></th>\n",
       "      <th>ParentId</th>\n",
       "    </tr>\n",
       "  </thead>\n",
       "  <tbody>\n",
       "    <tr>\n",
       "      <th>0</th>\n",
       "      <td>636977</td>\n",
       "    </tr>\n",
       "  </tbody>\n",
       "</table>\n",
       "</div>"
      ],
      "text/plain": [
       "   ParentId\n",
       "0    636977"
      ]
     },
     "execution_count": 61,
     "metadata": {},
     "output_type": "execute_result"
    }
   ],
   "source": [
    "top_questions_pd.head()"
   ]
  },
  {
   "cell_type": "code",
   "execution_count": 62,
   "metadata": {},
   "outputs": [
    {
     "data": {
      "text/plain": [
       "(1, 1)"
      ]
     },
     "execution_count": 62,
     "metadata": {},
     "output_type": "execute_result"
    }
   ],
   "source": [
    "top_questions_pd.shape"
   ]
  },
  {
   "cell_type": "code",
   "execution_count": 77,
   "metadata": {
    "colab": {},
    "colab_type": "code",
    "id": "_NkhZtSQ1pmm"
   },
   "outputs": [],
   "source": [
    "top_answers = filter_answers(question, top_questions_pd, code, 0.4, 100)"
   ]
  },
  {
   "cell_type": "code",
   "execution_count": 78,
   "metadata": {
    "colab": {},
    "colab_type": "code",
    "id": "mZjBkeo62QX3",
    "scrolled": false
   },
   "outputs": [],
   "source": [
    "# max_index = []\n",
    "# for i in range(top_answers:\n",
    "#     print(i)\n",
    "#     max_index.append(np.argmax(i['Code_sim']))"
   ]
  },
  {
   "cell_type": "code",
   "execution_count": 79,
   "metadata": {},
   "outputs": [
    {
     "data": {
      "text/html": [
       "<div>\n",
       "<style scoped>\n",
       "    .dataframe tbody tr th:only-of-type {\n",
       "        vertical-align: middle;\n",
       "    }\n",
       "\n",
       "    .dataframe tbody tr th {\n",
       "        vertical-align: top;\n",
       "    }\n",
       "\n",
       "    .dataframe thead th {\n",
       "        text-align: right;\n",
       "    }\n",
       "</style>\n",
       "<table border=\"1\" class=\"dataframe\">\n",
       "  <thead>\n",
       "    <tr style=\"text-align: right;\">\n",
       "      <th></th>\n",
       "      <th>Id</th>\n",
       "      <th>ParentId</th>\n",
       "      <th>OwnerUserId</th>\n",
       "      <th>CreationDate</th>\n",
       "      <th>Score</th>\n",
       "      <th>Body</th>\n",
       "      <th>Code</th>\n",
       "      <th>Code_sim</th>\n",
       "      <th>Code_sim_max</th>\n",
       "    </tr>\n",
       "  </thead>\n",
       "  <tbody>\n",
       "    <tr>\n",
       "      <th>0</th>\n",
       "      <td>636982</td>\n",
       "      <td>636977</td>\n",
       "      <td>10661.0</td>\n",
       "      <td>2009-03-12T00:49:59Z</td>\n",
       "      <td>8</td>\n",
       "      <td>do mean  that  uniqu space-delimit word in par...</td>\n",
       "      <td>[' '.join( set( someString.split() ) )\\n]</td>\n",
       "      <td>[0.0]</td>\n",
       "      <td>0.0</td>\n",
       "    </tr>\n",
       "  </tbody>\n",
       "</table>\n",
       "</div>"
      ],
      "text/plain": [
       "       Id  ParentId  OwnerUserId          CreationDate  Score  \\\n",
       "0  636982    636977      10661.0  2009-03-12T00:49:59Z      8   \n",
       "\n",
       "                                                Body  \\\n",
       "0  do mean  that  uniqu space-delimit word in par...   \n",
       "\n",
       "                                        Code Code_sim  Code_sim_max  \n",
       "0  [' '.join( set( someString.split() ) )\\n]    [0.0]           0.0  "
      ]
     },
     "execution_count": 79,
     "metadata": {},
     "output_type": "execute_result"
    }
   ],
   "source": [
    "top_answers"
   ]
  },
  {
   "cell_type": "code",
   "execution_count": null,
   "metadata": {},
   "outputs": [],
   "source": []
  },
  {
   "cell_type": "code",
   "execution_count": null,
   "metadata": {},
   "outputs": [],
   "source": []
  },
  {
   "cell_type": "code",
   "execution_count": null,
   "metadata": {},
   "outputs": [],
   "source": []
  },
  {
   "cell_type": "code",
   "execution_count": null,
   "metadata": {},
   "outputs": [],
   "source": []
  },
  {
   "cell_type": "code",
   "execution_count": null,
   "metadata": {
    "colab": {},
    "colab_type": "code",
    "id": "VYqLwOAXiZI0"
   },
   "outputs": [],
   "source": []
  }
 ],
 "metadata": {
  "accelerator": "GPU",
  "colab": {
   "collapsed_sections": [],
   "name": "IR.ipynb",
   "provenance": [],
   "version": "0.3.2"
  },
  "kernelspec": {
   "display_name": "Python 3",
   "language": "python",
   "name": "python3"
  },
  "language_info": {
   "codemirror_mode": {
    "name": "ipython",
    "version": 3
   },
   "file_extension": ".py",
   "mimetype": "text/x-python",
   "name": "python",
   "nbconvert_exporter": "python",
   "pygments_lexer": "ipython3",
   "version": "3.7.1"
  }
 },
 "nbformat": 4,
 "nbformat_minor": 1
}
