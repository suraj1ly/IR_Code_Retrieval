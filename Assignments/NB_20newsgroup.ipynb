{
 "cells": [
  {
   "cell_type": "code",
   "execution_count": 1,
   "metadata": {},
   "outputs": [],
   "source": [
    "import time\n",
    "from  nltk.tokenize import sent_tokenize,word_tokenize\n",
    "from nltk.corpus import stopwords\n",
    "from nltk.tokenize import RegexpTokenizer"
   ]
  },
  {
   "cell_type": "code",
   "execution_count": 2,
   "metadata": {},
   "outputs": [],
   "source": [
    "import nltk\n",
    "from nltk.corpus import stopwords\n",
    "stop_words=set(stopwords.words('english'))\n",
    "import codecs\n",
    "import collections \n",
    "import seaborn"
   ]
  },
  {
   "cell_type": "code",
   "execution_count": 3,
   "metadata": {},
   "outputs": [],
   "source": [
    "import os\n",
    "import copy\n",
    "import numpy as np\n",
    "from nltk.stem.wordnet import WordNetLemmatizer\n",
    "import random"
   ]
  },
  {
   "cell_type": "code",
   "execution_count": 4,
   "metadata": {},
   "outputs": [],
   "source": [
    "def size(dict_list):\n",
    "    sum=0\n",
    "    for i in dict_list.keys():\n",
    "        sum+=dict_list[i]\n",
    "    return sum"
   ]
  },
  {
   "cell_type": "code",
   "execution_count": 5,
   "metadata": {},
   "outputs": [],
   "source": [
    "def accuracy(predict,true):\n",
    "    count=0\n",
    "    for i in range(len(predict)):\n",
    "        if predict[i]==true[i]:\n",
    "            count+=1\n",
    "    return count/float(len(predict))"
   ]
  },
  {
   "cell_type": "code",
   "execution_count": 6,
   "metadata": {},
   "outputs": [],
   "source": [
    "#geeks for geeks \n",
    "def sort_list(list1, list2): \n",
    "    zipped_pairs = zip(list2, list1) \n",
    "    z = [x for _, x in sorted(zipped_pairs)] \n",
    "    return z "
   ]
  },
  {
   "cell_type": "code",
   "execution_count": 7,
   "metadata": {},
   "outputs": [],
   "source": [
    "def find_number(str1):\n",
    "    s=[]\n",
    "    s1=''\n",
    "    for i in range(len(str1)):\n",
    "        s.append(str1[i])\n",
    "#     print(s)\n",
    "#     print(s)\n",
    "    name=[]\n",
    "    name1=''\n",
    "    for i in range(len(s)):\n",
    "        if s[i]>='0' and s[i]<='9':\n",
    "            name=s[i:]\n",
    "            break\n",
    "    for i in range(len(name)):\n",
    "        name1=name1+name[i]\n",
    "    return str(name1)"
   ]
  },
  {
   "cell_type": "code",
   "execution_count": 8,
   "metadata": {},
   "outputs": [],
   "source": [
    "def punc_improve(str1):\n",
    "    s=[]\n",
    "    s1=''\n",
    "    for i in range(len(str1)):\n",
    "        s.append(str1[i])\n",
    "#     print(s)\n",
    "\n",
    "    for i in range(len(s)):\n",
    "        if (s[i]=='.' or s[i]==',' or  s[i]=='!'or  s[i]=='*' or s[i]=='+'  or s[i]=='-' or s[i]=='\\\"'  or s[i]=='\\'' or\n",
    "            s[i]=='{' or s[i]=='}' or s[i]==';' or s[i]==':' or s[i]=='(' or s[i]==')' or\n",
    "        s[i]=='='  or s[i]=='@' or s[i]=='>' or s[i]=='[' or s[i]==']' or s[i]=='|' \n",
    "        or s[i]=='#' or s[i]=='%' or s[i]=='`' or s[i]=='~' or s[i]==\"/\" or s[i]=='_' or s[i]=='<' or s[i]=='?' or  s[i]==' ' or s[i]=='$' or s[i]=='^'or s[i]=='' or s[i]==' ' or s[i]=='&'):\n",
    "            pass\n",
    "        else:\n",
    "            s1=s1+s[i]\n",
    "        \n",
    "    return s1\n"
   ]
  },
  {
   "cell_type": "code",
   "execution_count": 9,
   "metadata": {},
   "outputs": [],
   "source": [
    "def dash_improve(str1):\n",
    "    s=[]\n",
    "    s1=''\n",
    "    for i in range(len(str1)):\n",
    "        s.append(str1[i])\n",
    "#     print(s)\n",
    "\n",
    "    for i in range(len(s)):\n",
    "        if s[i]!='-':\n",
    "            s1=s1+s[i]\n",
    "    return s1"
   ]
  },
  {
   "cell_type": "code",
   "execution_count": 10,
   "metadata": {},
   "outputs": [],
   "source": [
    "def digit_improve(str1):\n",
    "    s=[]\n",
    "    s1=''\n",
    "    for i in range(len(str1)):\n",
    "        s.append(str1[i])\n",
    "#     print(s)\n",
    "    for i in range(len(s)):\n",
    "        if s[i]=='0':\n",
    "            s1=s1+'zero'\n",
    "        if s[i]=='1':\n",
    "            s1=s1+'one'\n",
    "        if s[i]=='2':\n",
    "            s1=s1+'two'\n",
    "        if s[i]=='3':\n",
    "            s1=s1+'three'\n",
    "        if s[i]=='4':\n",
    "            s1=s1+'four'\n",
    "        if s[i]=='5':\n",
    "            s1=s1+'five'\n",
    "        if s[i]=='6':\n",
    "            s1=s1+'six'\n",
    "        if s[i]=='7':\n",
    "            s1=s1+'seven'\n",
    "        if s[i]=='8':\n",
    "            s1=s1+'eight'\n",
    "        if s[i]=='9':\n",
    "            s1=s1+'nine'\n",
    "        if s[i]>='0' and s[i]<='9':\n",
    "            pass\n",
    "        else:\n",
    "            s1=s1+s[i]\n",
    "    return s1\n"
   ]
  },
  {
   "cell_type": "code",
   "execution_count": 11,
   "metadata": {},
   "outputs": [],
   "source": [
    "# temp={}\n",
    "# for j in train:\n",
    "\n",
    "#     temp[j]=class_wise[i][j]\n",
    "# class_wise1.append(temp)"
   ]
  },
  {
   "cell_type": "code",
   "execution_count": 12,
   "metadata": {},
   "outputs": [],
   "source": [
    "def random_split(class_wise,train_size,test_size):\n",
    "    train_size=int(train_size*len(class_wise[0])/float(100))\n",
    "    test_size=len(class_wise[0].keys())-train_size\n",
    "    train_set={}\n",
    "    test_set={}\n",
    "    class_wise1=[]\n",
    "    class_wise2=[]\n",
    "    for i in range(len(class_wise)):\n",
    "        keys=class_wise[i].keys()\n",
    "        shuffled_data=random.sample(keys, len(keys))\n",
    "        train=shuffled_data[:train_size]\n",
    "        test=shuffled_data[train_size:]\n",
    "        train_data=[]\n",
    "        test_data=[]\n",
    "        temp={}\n",
    "        for j in train:\n",
    "            temp[j]=class_wise[i][j]\n",
    "            train_data.append(class_wise[i][j])\n",
    "        class_wise1.append(temp)\n",
    "        temp={}\n",
    "        for j in test:\n",
    "            temp[j]=class_wise[i][j]\n",
    "            test_data.append(class_wise[i][j])\n",
    "        class_wise2.append(temp)\n",
    "        # sum the values with same keys \n",
    "    counter = collections.Counter() \n",
    "    for d in train_data:  \n",
    "        counter.update(d) \n",
    "\n",
    "    train_set = dict(counter) \n",
    "    counter = collections.Counter() \n",
    "    for d in test_data:  \n",
    "        counter.update(d) \n",
    "\n",
    "    test_set = dict(counter)\n",
    "#     print(len(test_set))\n",
    "    return class_wise1,class_wise2,train_set,test_set\n",
    "     \n",
    "    "
   ]
  },
  {
   "cell_type": "code",
   "execution_count": null,
   "metadata": {},
   "outputs": [],
   "source": []
  },
  {
   "cell_type": "code",
   "execution_count": 13,
   "metadata": {},
   "outputs": [],
   "source": [
    "#Here we wil get the sub-folders\n",
    "os.chdir('20_newsgroups')\n",
    "directories=os.listdir()"
   ]
  },
  {
   "cell_type": "code",
   "execution_count": null,
   "metadata": {},
   "outputs": [],
   "source": []
  },
  {
   "cell_type": "code",
   "execution_count": 14,
   "metadata": {},
   "outputs": [],
   "source": [
    "eliminate=['comp.graphics', 'sci.med', 'talk.politics.misc', 'rec.sport.hockey','sci.space']"
   ]
  },
  {
   "cell_type": "code",
   "execution_count": 15,
   "metadata": {},
   "outputs": [],
   "source": [
    "start1=time.time()"
   ]
  },
  {
   "cell_type": "code",
   "execution_count": 228,
   "metadata": {},
   "outputs": [
    {
     "name": "stdout",
     "output_type": "stream",
     "text": [
      "0\n",
      "1\n",
      "2\n",
      "3\n",
      "4\n"
     ]
    }
   ],
   "source": [
    "files=[]\n",
    "union_set=[]\n",
    "postings={}\n",
    "corpus={}\n",
    "corpus1={}\n",
    "vocub={}\n",
    "vocub_main=[]\n",
    "term_frequency={}\n",
    "counter=0\n",
    "for i in range(len(directories)):\n",
    "    files.append(copy.deepcopy([]))\n",
    "class_wise=[]\n",
    "for i in range(len(directories)):\n",
    "    corpus_small={}\n",
    "    if directories[i] in eliminate:\n",
    "        print(counter)\n",
    "        counter=counter+1\n",
    "        \n",
    "        address=os.getcwd()+\"\\\\\"+str(directories[i])\n",
    "        os.chdir(address)\n",
    "        files_in_dir=os.listdir()\n",
    "        for j in range(len(files_in_dir)):\n",
    "\n",
    "            files[i].append(directories[i]+\"/\"+files_in_dir[j])\n",
    "            address1=address+\"\\\\\"+files_in_dir[j]\n",
    "            c=[]\n",
    "            union_set=union_set+[files[i][j]]\n",
    "            offset=0\n",
    "            #stackoverflow\n",
    "            f=codecs.open(address1,'r',encoding='utf_8',errors=\"ignore\")\n",
    "\n",
    "            c = f.readlines()\n",
    "\n",
    "            final=[]\n",
    "#             in1=c.index('\\n')\n",
    "            for k in range(0,len(c)):\n",
    "\n",
    "                final.append(c[k])\n",
    "            #Final is a list of sentences \n",
    "            tokenizer = RegexpTokenizer(r'\\w+')\n",
    "            #Tokenizer previously used\n",
    "    #         tokenizer=RegexpTokenizer('\\s+',gaps=True)\n",
    "            lemmatizer = WordNetLemmatizer()\n",
    "\n",
    "            temp1=[]\n",
    "            vocub={}\n",
    "            for k in range(len(final)):\n",
    "                temp=[]\n",
    "                temp=tokenizer.tokenize(final[k])\n",
    "                temp=[lemmatizer.lemmatize(w,pos='v') for w in temp]\n",
    "                temp =[w.lower() for w in temp]\n",
    "                \n",
    "             \n",
    "    #             print(\"Stop Wro\",temp)\n",
    "\n",
    "                for n in range(len(temp)):\n",
    "#                     if hasNumbers(temp[n]):\n",
    "#                         continue\n",
    "#                     if temp[n].isdigit():\n",
    "#                         continue\n",
    "                    temp2=copy.deepcopy(temp[n])\n",
    "                    t1=str(dash_improve(str(temp2)))\n",
    "\n",
    "                    temp2=t1\n",
    "                    t2=str(digit_improve(str(temp2)))\n",
    "\n",
    "                    temp2=t2\n",
    "                    t3=str(punc_improve(str(temp2)))\n",
    "\n",
    "                    temp2=t3\n",
    "\n",
    "                    if temp2==list(['']) or temp2==list([' ']) or temp2=='' or temp2==' ':\n",
    "                        pass\n",
    "                    else:\n",
    "                        temp4=[]\n",
    "                        temp4.append(temp2)\n",
    "                        temp1=temp1+temp4\n",
    "                    if temp2 in vocub.keys():\n",
    "                        vocub[temp2]=vocub[temp2]+1\n",
    "                    else:\n",
    "                        vocub[temp2]=1\n",
    "\n",
    "            corpus1[files[i][j]]=temp1\n",
    "            corpus[files[i][j]]=vocub\n",
    "            corpus_small[files[i][j]]=vocub\n",
    "            vocub_main=set(vocub_main).union(set(temp1))\n",
    "    #         if (counter % 5000)==0:\n",
    "    #             print(\"Count \",counter)\n",
    "    #         counter=counter+1\n",
    "            for k in set(corpus[files[i][j]]):\n",
    "\n",
    "                if k in postings.keys():\n",
    "                    if files[i][j] in postings[k]:\n",
    "                        pass\n",
    "                    else:\n",
    "\n",
    "                        postings[k].append(files[i][j])\n",
    "                    term_frequency[k]=term_frequency[k]+1\n",
    "                else:\n",
    "                    s=[]\n",
    "                    s.append(files[i][j])\n",
    "                    postings[k]=s\n",
    "                    term_frequency[k]=1  \n",
    "        class_wise.append(corpus_small)\n",
    "        os.chdir('..') "
   ]
  },
  {
   "cell_type": "code",
   "execution_count": null,
   "metadata": {},
   "outputs": [],
   "source": []
  },
  {
   "cell_type": "code",
   "execution_count": 229,
   "metadata": {},
   "outputs": [
    {
     "name": "stdout",
     "output_type": "stream",
     "text": [
      "7957.06693649292\n"
     ]
    }
   ],
   "source": [
    "start2=time.time()\n",
    "print(start2-start1)"
   ]
  },
  {
   "cell_type": "code",
   "execution_count": 234,
   "metadata": {},
   "outputs": [
    {
     "data": {
      "text/plain": [
       "64792"
      ]
     },
     "execution_count": 234,
     "metadata": {},
     "output_type": "execute_result"
    }
   ],
   "source": [
    "len(vocub_main)"
   ]
  },
  {
   "cell_type": "markdown",
   "metadata": {},
   "source": [
    "# Q1"
   ]
  },
  {
   "cell_type": "code",
   "execution_count": 230,
   "metadata": {},
   "outputs": [],
   "source": [
    "#Give the value in percentage or ratio \n",
    "train_size=70\n",
    "test_size=30\n"
   ]
  },
  {
   "cell_type": "code",
   "execution_count": 231,
   "metadata": {},
   "outputs": [],
   "source": [
    "start3=time.time()"
   ]
  },
  {
   "cell_type": "code",
   "execution_count": 232,
   "metadata": {},
   "outputs": [],
   "source": [
    "train_data,test_data,train_set,test_set=random_split(class_wise,train_size,test_size)"
   ]
  },
  {
   "cell_type": "code",
   "execution_count": null,
   "metadata": {},
   "outputs": [],
   "source": []
  },
  {
   "cell_type": "code",
   "execution_count": 233,
   "metadata": {},
   "outputs": [
    {
     "name": "stdout",
     "output_type": "stream",
     "text": [
      "Training data vocub  54364\n",
      "Testing data vocub  34532\n"
     ]
    }
   ],
   "source": [
    "vocub2={}\n",
    "for i in range(len(train_data)):\n",
    "    for j in train_data[i]:\n",
    "        for k in train_data[i][j]:\n",
    "            vocub2[k]=0\n",
    "print(\"Training data vocub \",len(vocub2))\n",
    "vocub2={}\n",
    "for i in range(len(test_data)):\n",
    "    for j in test_data[i]:\n",
    "        for k in test_data[i][j]:\n",
    "            vocub2[k]=0\n",
    "print(\"Testing data vocub \",len(vocub2))\n"
   ]
  },
  {
   "cell_type": "code",
   "execution_count": 197,
   "metadata": {},
   "outputs": [
    {
     "name": "stdout",
     "output_type": "stream",
     "text": [
      "0.7752053737640381\n"
     ]
    }
   ],
   "source": [
    "start4=time.time()\n",
    "print(start4-start3)"
   ]
  },
  {
   "cell_type": "code",
   "execution_count": 198,
   "metadata": {},
   "outputs": [
    {
     "data": {
      "text/plain": [
       "5"
      ]
     },
     "execution_count": 198,
     "metadata": {},
     "output_type": "execute_result"
    }
   ],
   "source": [
    "len(train_data)"
   ]
  },
  {
   "cell_type": "code",
   "execution_count": 199,
   "metadata": {},
   "outputs": [
    {
     "data": {
      "text/plain": [
       "5"
      ]
     },
     "execution_count": 199,
     "metadata": {},
     "output_type": "execute_result"
    }
   ],
   "source": [
    "len(test_data)"
   ]
  },
  {
   "cell_type": "code",
   "execution_count": 200,
   "metadata": {},
   "outputs": [],
   "source": [
    "#Prior Calculations\n",
    "prior=[]\n",
    "sum=0\n",
    "for i in range(len(class_wise)):\n",
    "    sum+=len(class_wise[i])\n",
    "for i in range(len(class_wise)):\n",
    "    prior.append(len(class_wise[i])/float(sum))\n",
    "\n",
    "    "
   ]
  },
  {
   "cell_type": "code",
   "execution_count": 201,
   "metadata": {},
   "outputs": [],
   "source": [
    "vocub_main=list(vocub_main)\n",
    "vocub_size=len(vocub_main)"
   ]
  },
  {
   "cell_type": "code",
   "execution_count": null,
   "metadata": {},
   "outputs": [],
   "source": []
  },
  {
   "cell_type": "code",
   "execution_count": 202,
   "metadata": {},
   "outputs": [],
   "source": [
    "start5=time.time()"
   ]
  },
  {
   "cell_type": "markdown",
   "metadata": {},
   "source": [
    "# Training the Data"
   ]
  },
  {
   "cell_type": "code",
   "execution_count": 203,
   "metadata": {},
   "outputs": [],
   "source": [
    "#Conditional Probability for terms given class\n",
    "cond_prob={}\n",
    "for i in range(len(class_wise)):\n",
    "    v=0\n",
    "    for k in train_data[i].keys():\n",
    "        \n",
    "        for j in vocub_main:\n",
    "            if j in train_data[i][k]:\n",
    "                v+=train_data[i][k][j]\n",
    "    temp={}\n",
    "    for k in vocub_main:\n",
    "        sum=0\n",
    "        for j in train_data[i].keys():\n",
    "            if k in train_data[i][j]:\n",
    "                sum+=train_data[i][j][k]\n",
    "        temp[k]=(sum+1)/float(v+vocub_size)\n",
    "    cond_prob[i]=temp\n",
    "    \n",
    "        "
   ]
  },
  {
   "cell_type": "code",
   "execution_count": 204,
   "metadata": {},
   "outputs": [
    {
     "name": "stdout",
     "output_type": "stream",
     "text": [
      "85.9077799320221\n"
     ]
    }
   ],
   "source": [
    "start6=time.time()\n",
    "print(start6-start5)"
   ]
  },
  {
   "cell_type": "markdown",
   "metadata": {},
   "source": [
    "# Testing the test set "
   ]
  },
  {
   "cell_type": "code",
   "execution_count": 205,
   "metadata": {},
   "outputs": [],
   "source": [
    "# For testing the test set\n",
    "test_label=[]\n",
    "for i in range(len(test_data)):\n",
    "    for j in range(len(test_data[i])):\n",
    "        test_label.append(i)\n",
    "        "
   ]
  },
  {
   "cell_type": "code",
   "execution_count": null,
   "metadata": {},
   "outputs": [],
   "source": []
  },
  {
   "cell_type": "code",
   "execution_count": 206,
   "metadata": {},
   "outputs": [],
   "source": [
    "label_pred=[]\n",
    "for i in range(len(test_data)):\n",
    "    \n",
    "    for j in test_data[i]:\n",
    "        store=[]\n",
    "        for m in range(len(class_wise)):\n",
    "            sum=np.log(prior[m])\n",
    "            for k in test_data[i][j]:\n",
    "                try:\n",
    "                    sum+=test_data[i][j][k]*np.log(cond_prob[m][k])\n",
    "                except:\n",
    "                    sum+=0\n",
    "            store.append(sum)\n",
    "        label_pred.append(np.argmax(store))\n",
    "    \n",
    "            "
   ]
  },
  {
   "cell_type": "code",
   "execution_count": null,
   "metadata": {},
   "outputs": [],
   "source": []
  },
  {
   "cell_type": "code",
   "execution_count": 207,
   "metadata": {},
   "outputs": [
    {
     "name": "stdout",
     "output_type": "stream",
     "text": [
      "Test Accuracy :  0.9776\n"
     ]
    }
   ],
   "source": [
    "print(\"Test Accuracy : \",accuracy(label_pred,test_label))"
   ]
  },
  {
   "cell_type": "code",
   "execution_count": 208,
   "metadata": {},
   "outputs": [
    {
     "name": "stdout",
     "output_type": "stream",
     "text": [
      "7.990471839904785\n"
     ]
    }
   ],
   "source": [
    "start7=time.time()\n",
    "print(start7-start6)"
   ]
  },
  {
   "cell_type": "code",
   "execution_count": 209,
   "metadata": {},
   "outputs": [
    {
     "data": {
      "text/plain": [
       "<matplotlib.axes._subplots.AxesSubplot at 0x1f6a7ada4e0>"
      ]
     },
     "execution_count": 209,
     "metadata": {},
     "output_type": "execute_result"
    },
    {
     "data": {
      "image/png": "[encoded data removed]",
      "text/plain": [
       "<Figure size 432x288 with 2 Axes>"
      ]
     },
     "metadata": {
      "needs_background": "light"
     },
     "output_type": "display_data"
    }
   ],
   "source": [
    "#Confusion Matrix\n",
    "confusionmatrix=[]\n",
    "\n",
    "temp=[0,0,0,0,0]\n",
    "for i in range(len(class_wise)):\n",
    "    confusionmatrix.append(temp)\n",
    "    temp=copy.deepcopy(temp)\n",
    "for i in range(len(test_label)):\n",
    "    confusionmatrix[test_label[i]][label_pred[i]]=confusionmatrix[test_label[i]][label_pred[i]]+1\n",
    "seaborn.heatmap(confusionmatrix,annot=True,fmt=\"d\")   "
   ]
  },
  {
   "cell_type": "markdown",
   "metadata": {},
   "source": [
    "# Q2"
   ]
  },
  {
   "cell_type": "code",
   "execution_count": 210,
   "metadata": {},
   "outputs": [],
   "source": [
    "train_doc=0\n",
    "for i in range(len(train_data)):\n",
    "    train_doc+=len(train_data[i].keys())\n"
   ]
  },
  {
   "cell_type": "code",
   "execution_count": 211,
   "metadata": {},
   "outputs": [],
   "source": [
    "start8=time.time()"
   ]
  },
  {
   "cell_type": "code",
   "execution_count": 212,
   "metadata": {},
   "outputs": [
    {
     "name": "stdout",
     "output_type": "stream",
     "text": [
      "Counter :  0\n",
      "Counter :  20000000\n",
      "Counter :  40000000\n",
      "Counter :  60000000\n",
      "Counter :  80000000\n",
      "Counter :  100000000\n",
      "Counter :  120000000\n",
      "Counter :  140000000\n",
      "Counter :  160000000\n"
     ]
    }
   ],
   "source": [
    "#Created IDF Vectors\n",
    "idf_vector={}\n",
    "idf=[]\n",
    "tf_idf_main={}\n",
    "counter=0\n",
    "for j in vocub_main:\n",
    "\n",
    "    count=0\n",
    "    for k in range(len(train_data)):\n",
    "        for i in train_data[k]:\n",
    "           \n",
    "            if counter%20000000==0:\n",
    "                print(\"Counter : \",counter)\n",
    "            counter+=1\n",
    "            if j in train_data[k][i]:\n",
    "                count+=1\n",
    "        \n",
    "    idf_vector[j]=np.log(train_doc/(1+count))"
   ]
  },
  {
   "cell_type": "code",
   "execution_count": null,
   "metadata": {},
   "outputs": [],
   "source": []
  },
  {
   "cell_type": "code",
   "execution_count": 213,
   "metadata": {},
   "outputs": [],
   "source": [
    "\n",
    "# tdf_idf_main={}\n",
    "# counter=0\n",
    "# for i in corpus.keys():\n",
    "#     count=0\n",
    "#     f={}\n",
    "#     for j in vocub_main:\n",
    "#         if counter%1000000==0:\n",
    "#             print(\"Counter : \",counter)\n",
    "#         counter+=1\n",
    "#         f[j]=0\n",
    "#     tdf_idf_main[i]=f"
   ]
  },
  {
   "cell_type": "code",
   "execution_count": 214,
   "metadata": {},
   "outputs": [],
   "source": [
    "#To make the dictionary for tf\n",
    "train_data1=copy.deepcopy(train_data)\n",
    "\n",
    "for i in range(len(train_data1)):\n",
    "    for j in train_data[i].keys():\n",
    "        s=size(train_data[i][j])\n",
    "        for k in train_data[i][j]:\n",
    "            train_data1[i][j][k]=train_data[i][j][k]/float(s)\n",
    "        "
   ]
  },
  {
   "cell_type": "code",
   "execution_count": 215,
   "metadata": {},
   "outputs": [
    {
     "name": "stdout",
     "output_type": "stream",
     "text": [
      "Counter :  0\n",
      "Counter :  20000000\n",
      "Counter :  40000000\n",
      "Counter :  60000000\n",
      "Counter :  80000000\n",
      "Counter :  100000000\n",
      "Counter :  120000000\n",
      "Counter :  140000000\n",
      "Counter :  160000000\n"
     ]
    }
   ],
   "source": [
    "# To tf- vectors\n",
    "\n",
    "tf_idf_main={}\n",
    "counter=0\n",
    "tf={}\n",
    "for k in range(len(train_data1)):\n",
    "    for i in train_data1[k]:\n",
    "        for j in vocub_main:\n",
    "            if counter%20000000==0:\n",
    "                print(\"Counter : \",counter)\n",
    "            counter+=1\n",
    "            \n",
    "            if j in train_data1[k][i]:\n",
    "                if j not in tf.keys():\n",
    "                    tf[j]=train_data1[k][i][j]\n",
    "                else:\n",
    "                    if train_data1[k][i][j]>tf[j]:\n",
    "                        tf[j]=train_data1[k][i][j]\n",
    "\n"
   ]
  },
  {
   "cell_type": "code",
   "execution_count": 216,
   "metadata": {},
   "outputs": [],
   "source": [
    "## To tf-idf vectors\n",
    "tf_idf={}\n",
    "for i in tf.keys():\n",
    "    tf_idf[i]=tf[i]*idf_vector[i]\n"
   ]
  },
  {
   "cell_type": "code",
   "execution_count": 217,
   "metadata": {},
   "outputs": [
    {
     "name": "stdout",
     "output_type": "stream",
     "text": [
      "198.13738584518433\n"
     ]
    }
   ],
   "source": [
    "start9=time.time()\n",
    "print(start9-start8)"
   ]
  },
  {
   "cell_type": "code",
   "execution_count": 218,
   "metadata": {},
   "outputs": [],
   "source": [
    "# To threshold the features\n",
    "threshold=0.6\n",
    "sort_by_value = sorted(tf_idf.items(), key=lambda value: value[1],reverse=True)\n",
    "\n"
   ]
  },
  {
   "cell_type": "code",
   "execution_count": 219,
   "metadata": {},
   "outputs": [],
   "source": [
    "vocub_main=[]\n",
    "for i in range(int(len(sort_by_value)*0.6)):\n",
    "    vocub_main.append(sort_by_value[i][0])"
   ]
  },
  {
   "cell_type": "code",
   "execution_count": 220,
   "metadata": {},
   "outputs": [],
   "source": [
    "start10=time.time()"
   ]
  },
  {
   "cell_type": "markdown",
   "metadata": {},
   "source": [
    "# Training the train data after feature selection"
   ]
  },
  {
   "cell_type": "code",
   "execution_count": 221,
   "metadata": {},
   "outputs": [],
   "source": [
    "#Conditional Probability for terms given class\n",
    "cond_prob={}\n",
    "for i in range(len(class_wise)):\n",
    "    v=0\n",
    "    for k in train_data[i].keys():\n",
    "        \n",
    "        for j in vocub_main:\n",
    "            if j in train_data[i][k]:\n",
    "                v+=train_data[i][k][j]\n",
    "    temp={}\n",
    "    for k in vocub_main:\n",
    "        sum=0\n",
    "        for j in train_data[i].keys():\n",
    "            if k in train_data[i][j]:\n",
    "                sum+=train_data[i][j][k]\n",
    "        temp[k]=(sum+1)/float(v+vocub_size)\n",
    "    cond_prob[i]=temp\n",
    "    \n",
    "        "
   ]
  },
  {
   "cell_type": "code",
   "execution_count": 222,
   "metadata": {},
   "outputs": [
    {
     "name": "stdout",
     "output_type": "stream",
     "text": [
      "36.4926598072052\n"
     ]
    }
   ],
   "source": [
    "start11=time.time()\n",
    "print(start11-start10)"
   ]
  },
  {
   "cell_type": "markdown",
   "metadata": {},
   "source": [
    "# Testing the test set"
   ]
  },
  {
   "cell_type": "code",
   "execution_count": 223,
   "metadata": {},
   "outputs": [],
   "source": [
    "# For testing the test set\n",
    "test_label=[]\n",
    "for i in range(len(test_data)):\n",
    "    for j in range(len(test_data[i])):\n",
    "        test_label.append(i)\n",
    "        "
   ]
  },
  {
   "cell_type": "code",
   "execution_count": 224,
   "metadata": {},
   "outputs": [],
   "source": [
    "label_pred=[]\n",
    "for i in range(len(test_data)):\n",
    "    \n",
    "    for j in test_data[i]:\n",
    "        store=[]\n",
    "        for m in range(len(class_wise)):\n",
    "            sum=np.log(prior[m])\n",
    "            for k in test_data[i][j]:\n",
    "                try:\n",
    "                    sum+=test_data[i][j][k]*np.log(cond_prob[m][k])\n",
    "                except:\n",
    "                    sum+=0\n",
    "            store.append(sum)\n",
    "        label_pred.append(np.argmax(store))\n",
    "    \n",
    "            "
   ]
  },
  {
   "cell_type": "code",
   "execution_count": 225,
   "metadata": {},
   "outputs": [
    {
     "name": "stdout",
     "output_type": "stream",
     "text": [
      "Test Accuracy :  0.9796\n"
     ]
    }
   ],
   "source": [
    "print(\"Test Accuracy : \",accuracy(label_pred,test_label))"
   ]
  },
  {
   "cell_type": "code",
   "execution_count": 226,
   "metadata": {},
   "outputs": [
    {
     "name": "stdout",
     "output_type": "stream",
     "text": [
      "5.449003219604492\n"
     ]
    }
   ],
   "source": [
    "start12=time.time()\n",
    "print(start12-start11)"
   ]
  },
  {
   "cell_type": "code",
   "execution_count": 227,
   "metadata": {},
   "outputs": [
    {
     "data": {
      "text/plain": [
       "<matplotlib.axes._subplots.AxesSubplot at 0x1f69f30e278>"
      ]
     },
     "execution_count": 227,
     "metadata": {},
     "output_type": "execute_result"
    },
    {
     "data": {
      "image/png": "[encoded data removed]",
      "text/plain": [
       "<Figure size 432x288 with 2 Axes>"
      ]
     },
     "metadata": {
      "needs_background": "light"
     },
     "output_type": "display_data"
    }
   ],
   "source": [
    "#Confusion Matrix\n",
    "confusionmatrix=[]\n",
    "\n",
    "temp=[0,0,0,0,0];'/'\n",
    "for i in range(len(class_wise)):\n",
    "    confusionmatrix.append(temp)\n",
    "    temp=copy.deepcopy(temp)\n",
    "for i in range(len(test_label)):\n",
    "    confusionmatrix[test_label[i]][label_pred[i]]=confusionmatrix[test_label[i]][label_pred[i]]+1\n",
    "seaborn.heatmap(confusionmatrix,annot=True,fmt=\"d\")   "
   ]
  },
  {
   "cell_type": "code",
   "execution_count": null,
   "metadata": {},
   "outputs": [],
   "source": []
  },
  {
   "cell_type": "code",
   "execution_count": null,
   "metadata": {},
   "outputs": [],
   "source": []
  },
  {
   "cell_type": "code",
   "execution_count": null,
   "metadata": {},
   "outputs": [],
   "source": []
  }
 ],
 "metadata": {
  "kernelspec": {
   "display_name": "Python 3",
   "language": "python",
   "name": "python3"
  },
  "language_info": {
   "codemirror_mode": {
    "name": "ipython",
    "version": 3
   },
   "file_extension": ".py",
   "mimetype": "text/x-python",
   "name": "python",
   "nbconvert_exporter": "python",
   "pygments_lexer": "ipython3",
   "version": "3.7.1"
  }
 },
 "nbformat": 4,
 "nbformat_minor": 2
}
